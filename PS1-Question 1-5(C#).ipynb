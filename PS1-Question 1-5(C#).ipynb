{
 "cells": [
  {
   "cell_type": "markdown",
   "id": "84af5b71",
   "metadata": {},
   "source": [
    "# QUESTION 1 "
   ]
  },
  {
   "attachments": {},
   "cell_type": "markdown",
   "id": "20681184",
   "metadata": {},
   "source": [
    "    What data type is each of the following?\n",
    "    5 - Integer \n",
    "    5.0 - Float\n",
    "    5 > 1 - Boolean\n",
    "    '5' - Char\n",
    "    5 * 2 - Integer\n",
    "    '5' * 2 - String\n",
    "    '5' + '2' - String\n",
    "    5 / 2 - Float\n",
    "    5 % 2 - Integer\n",
    "    {5, 2, 1} - Integer\n",
    "    5 ==3 - Boolean\n",
    "    Pi (the number) - Float"
   ]
  },
  {
   "cell_type": "markdown",
   "id": "f9822a06",
   "metadata": {},
   "source": [
    "#  QUESTION 2\n",
    "    "
   ]
  },
  {
   "cell_type": "markdown",
   "id": "aac86fb4",
   "metadata": {},
   "source": [
    "    Write (and evaluate) C# expressions that answer these questions:\n",
    "    a. How many letters are there in 'Supercalifragilisticexpialidocious'?\n",
    "    b. Does 'Supercalifragilisticexpialidocious' contain 'ice' as a substring?\n",
    "    c. Which of the following words is the longest: Supercalifragilisticexpialidocious, Honorificabilitudinitatibus, or Bababadalgharaghtakamminarronnkonn?\n",
    "    d. Which composer comes first in the dictionary: 'Berlioz', 'Borodin', 'Brian', 'Bartok', 'Bellini', 'Buxtehude', 'Bernstein'. Which one comes last?\n"
   ]
  },
  {
   "cell_type": "code",
   "execution_count": 8,
   "id": "ae24d31d",
   "metadata": {},
   "outputs": [
    {
     "ename": "IndentationError",
     "evalue": "unindent does not match any outer indentation level (<tokenize>, line 16)",
     "output_type": "error",
     "traceback": [
      "\u001b[0;36m  File \u001b[0;32m\"<tokenize>\"\u001b[0;36m, line \u001b[0;32m16\u001b[0m\n\u001b[0;31m    using System;\u001b[0m\n\u001b[0m    ^\u001b[0m\n\u001b[0;31mIndentationError\u001b[0m\u001b[0;31m:\u001b[0m unindent does not match any outer indentation level\n"
     ]
    }
   ],
   "source": [
    "#2a\n",
    "\n",
    "                string Name = \"Supercalifragilisticexpialidocious\";\n",
    "                int letterCount = Name.Length;\n",
    "                Console.WriteLine(\"The number of letters in the Name is: \" + letterCount);\n",
    "       \n",
    "\n",
    "#2b\n",
    "\n",
    "\n",
    "                    string word = \"Supercalifragilisticexpialidocious\" ;  \n",
    "                    if (word.Contains(\"ice\"))\n",
    "                    {\n",
    "                    Console.WriteLine(word +\" has ice as a substring\");\n",
    "                    }            \n",
    "               \n",
    "\n",
    "    \n",
    "#2c\n",
    "\n",
    "\n",
    "            string word1 = \"Supercalifragilisticexpialidocious\";\n",
    "            string word2 = \"Honorificabilitudinitatibus\";\n",
    "            string word3 = \"Bababadalgharaghtakamminarronnkonn\";\n",
    "\n",
    "             if(word1.Length>word2.Length)\n",
    "             {\n",
    "             Console.WriteLine( word1 +\" is the longest string\");\n",
    "             }\n",
    "             else if(word2.Length>word3.Length)\n",
    "             {\n",
    "             Console.WriteLine(word2 + \" is the longest string\");\n",
    "             }\n",
    "             else\n",
    "             {\n",
    "             Console.WriteLine(word3 + \" is the longest string\");\n",
    "             }\n",
    "\n",
    "    \n",
    "#2d\n",
    "\n",
    "            string[] words = {\"Berlioz\", \"Borodin\", \"Brian\",\"Bartok\", \"Bellini\", \"Buxtehude\", \"Bernstein\"};\n",
    "            Array.Sort(words);  \n",
    "            Console.WriteLine($\"The first composer in Dictionary is {words[0]}\");\n",
    "            Array.Reverse(words);\n",
    "            Console.WriteLine($\"The Last composer in Dictionary is {words[0]}\");\n"
   ]
  },
  {
   "cell_type": "markdown",
   "id": "f4925e79",
   "metadata": {},
   "source": [
    "# Question 3"
   ]
  },
  {
   "cell_type": "markdown",
   "id": "0772f85a",
   "metadata": {},
   "source": [
    "     Implement function triangleArea(a,b,c) that takes as input the lengths of the 3 sides of a triangle and returns the area of the triangle. By Heron's formula, the area of a triangle with side lengths a, b, and c is   s(s − a)(s − b)(s − c), where\n",
    "    s = (a + b + c)/2.\n",
    "    >>> triangleArea(2,2,2)\n",
    "    1. 7320508075688772"
   ]
  },
  {
   "cell_type": "code",
   "execution_count": 10,
   "id": "f8bda945",
   "metadata": {},
   "outputs": [
    {
     "ename": "SyntaxError",
     "evalue": "invalid syntax (2217146155.py, line 1)",
     "output_type": "error",
     "traceback": [
      "\u001b[0;36m  File \u001b[0;32m\"/var/folders/r7/8j46pnsx24z0hj967k28tl8m0000gn/T/ipykernel_60735/2217146155.py\"\u001b[0;36m, line \u001b[0;32m1\u001b[0m\n\u001b[0;31m    static double triangleArea(int a, int b, int c)\u001b[0m\n\u001b[0m           ^\u001b[0m\n\u001b[0;31mSyntaxError\u001b[0m\u001b[0;31m:\u001b[0m invalid syntax\n"
     ]
    }
   ],
   "source": [
    "static double triangleArea(int a, int b, int c)\n",
    "{\n",
    "    double s = (a + b + c) / 2;\n",
    "    double area = Math.Sqrt(s * (s - a) * (s - b) * (s - c));\n",
    "    return area;\n",
    "}\n",
    "\n",
    "Console.WriteLine(\"Area of triange : \" + triangleArea(2, 2, 2));"
   ]
  },
  {
   "cell_type": "markdown",
   "id": "5b6a89b5",
   "metadata": {},
   "source": [
    "# Question 4"
   ]
  },
  {
   "cell_type": "markdown",
   "id": "8bf27187",
   "metadata": {},
   "source": [
    "    Write a program in C# Sharp to separate odd and even integers in separate arrays. \n",
    "    Go to the editor\n",
    "    Test Data :\n",
    "    Input the number of elements to be stored in the array :5\n",
    "    Input 5 elements in the array : \n",
    "    element - 0 : 25\n",
    "    element - 1 : 47\n",
    "    element - 2 : 42\n",
    "    element - 3 : 56 \n",
    "    element - 4 : 32 \n",
    "    Expected Output:\n",
    "    The Even elements are: 42 56 32\n",
    "    The Odd elements are : 25 47"
   ]
  },
  {
   "cell_type": "code",
   "execution_count": 9,
   "id": "419a37bc",
   "metadata": {},
   "outputs": [
    {
     "ename": "SyntaxError",
     "evalue": "invalid syntax (2133398314.py, line 1)",
     "output_type": "error",
     "traceback": [
      "\u001b[0;36m  File \u001b[0;32m\"/var/folders/r7/8j46pnsx24z0hj967k28tl8m0000gn/T/ipykernel_60735/2133398314.py\"\u001b[0;36m, line \u001b[0;32m1\u001b[0m\n\u001b[0;31m    int[] arr1 = new int[] {\u001b[0m\n\u001b[0m        ^\u001b[0m\n\u001b[0;31mSyntaxError\u001b[0m\u001b[0;31m:\u001b[0m invalid syntax\n"
     ]
    }
   ],
   "source": [
    "int[] arr1 = new int[] {\n",
    "            25,\n",
    "            47,\n",
    "            42,\n",
    "            56,\n",
    "            32\n",
    "         };\n",
    "int[] arr2 = new int[5];\n",
    "int[] arr3 = new int[5];\n",
    "int i, j = 0, k = 0;\n",
    "for (i = 0; i < 5; i++)\n",
    "{\n",
    "    if (arr1[i] % 2 == 0)\n",
    "    {\n",
    "        arr2[j] = arr1[i];\n",
    "        j++;\n",
    "    }\n",
    "    else\n",
    "    {\n",
    "        arr3[k] = arr1[i];\n",
    "        k++;\n",
    "    }\n",
    "}\n",
    "Console.WriteLine(\"Even numbers list\");\n",
    "for (i = 0; i < j; i++)\n",
    "{\n",
    "    Console.WriteLine(arr2[i]);\n",
    "}\n",
    "Console.WriteLine(\"Odd numbers list\");\n",
    "for (i = 0; i < k; i++)\n",
    "{\n",
    "    Console.WriteLine(arr3[i]);\n"
   ]
  },
  {
   "cell_type": "markdown",
   "id": "be3d3b56",
   "metadata": {},
   "source": [
    "# Question 5"
   ]
  },
  {
   "cell_type": "markdown",
   "id": "5bdd30fc",
   "metadata": {},
   "source": [
    "    a. Write a function i nsi de( x, y, x1, y1, x2, y2) that returns True or False dependingonwhetherthepoint(x,y)liesintherectanglewithlowerleft corner (x1,y1) and upper right corner (x2,y2).\n",
    "    >>> inside(1,1,0,0,2,3) True\n",
    "    >>> inside(-1,-1,0,0,2,3) Fal se\n",
    "    b. Use function inside() from part a. to write an expression that tests whether the point (1,1) lies in both of the following rectangles: one with lower left corner (0.3, 0.5) and upper right corner (1.1, 0.7) and the other with lower left corner (0.5, 0.2) and upper right corner (1.1, 2)."
   ]
  },
  {
   "cell_type": "code",
   "execution_count": 11,
   "id": "003e4be0",
   "metadata": {},
   "outputs": [
    {
     "ename": "SyntaxError",
     "evalue": "invalid syntax (1130166718.py, line 3)",
     "output_type": "error",
     "traceback": [
      "\u001b[0;36m  File \u001b[0;32m\"/var/folders/r7/8j46pnsx24z0hj967k28tl8m0000gn/T/ipykernel_60735/1130166718.py\"\u001b[0;36m, line \u001b[0;32m3\u001b[0m\n\u001b[0;31m    bool inside(int x, int y, int x1, int y1, int x2, int y2)\u001b[0m\n\u001b[0m         ^\u001b[0m\n\u001b[0;31mSyntaxError\u001b[0m\u001b[0;31m:\u001b[0m invalid syntax\n"
     ]
    }
   ],
   "source": [
    "#5a\n",
    "\n",
    "bool inside(int x, int y, int x1, int y1, int x2, int y2)\n",
    "    {\n",
    "        if (x >= x1 && x <= x2 && y >= y1 && y <= y2)\n",
    "        {\n",
    "            return true;\n",
    "        }\n",
    "        else\n",
    "        {\n",
    "            return false;\n",
    "        }\n",
    "    }\n",
    "bool result1 = inside(1, 1, 0, 0, 2, 3);\n",
    "Console.WriteLine(result1); // Output: True\n",
    "\n",
    "bool result2 = inside(-1, -1, 0, 0, 2, 3);\n",
    "Console.WriteLine(result2); // Output: False\n",
    "    \n",
    "    \n",
    "#5b\n",
    "\n",
    "bool inside(double x, double y, double x1, double y1, double x2, double y2)\n",
    "{\n",
    "    if (x >= x1 && x <= x2 && y >= y1 && y <= y2)\n",
    "    {\n",
    "        return true;\n",
    "    }\n",
    "    else\n",
    "    {\n",
    "        return false;\n",
    "    }\n",
    "}\n",
    "bool rectangle1 = inside(1, 1, 0.3, 0.5, 1.1, 0.7);\n",
    "bool rectangle2 = inside(1, 1, 0.5, 0.2, 1.1, 2);\n",
    "\n",
    "if (rectangle1 && rectangle2)\n",
    "{\n",
    "    Console.WriteLine(\"The point (1,1) lies in both rectangles.\");\n",
    "}\n",
    "else\n",
    "{\n",
    "    Console.WriteLine(\"The point (1,1) does not lie in both rectangles.\");\n",
    "}\n",
    "\n"
   ]
  },
  {
   "cell_type": "code",
   "execution_count": null,
   "id": "6531b5a6",
   "metadata": {},
   "outputs": [],
   "source": []
  },
  {
   "cell_type": "code",
   "execution_count": null,
   "id": "08b0700d",
   "metadata": {},
   "outputs": [],
   "source": []
  }
 ],
 "metadata": {
  "kernelspec": {
   "display_name": "Python 3 (ipykernel)",
   "language": "python",
   "name": "python3"
  },
  "language_info": {
   "codemirror_mode": {
    "name": "ipython",
    "version": 3
   },
   "file_extension": ".py",
   "mimetype": "text/x-python",
   "name": "python",
   "nbconvert_exporter": "python",
   "pygments_lexer": "ipython3",
   "version": "3.9.13"
  }
 },
 "nbformat": 4,
 "nbformat_minor": 5
}

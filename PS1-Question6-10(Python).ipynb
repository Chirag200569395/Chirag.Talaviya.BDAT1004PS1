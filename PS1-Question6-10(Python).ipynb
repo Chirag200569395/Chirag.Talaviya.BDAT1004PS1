{
 "cells": [
  {
   "cell_type": "markdown",
   "id": "febc17be",
   "metadata": {},
   "source": [
    "# Question 6"
   ]
  },
  {
   "cell_type": "markdown",
   "id": "614dc14e",
   "metadata": {},
   "source": [
    "    16. You can turn a word into pig-Latin using the following two rules (simplified):\n",
    "    • If the word starts with a consonant, move that letter to the end and append\n",
    "    'ay'. For example, 'happy' becomes 'appyhay' and 'pencil' becomes 'encilpay'.\n",
    "    • If the word starts with a vowel, simply append 'way' to the end of the word.\n",
    "    For example, 'enter' becomes 'enterway' and 'other' becomes 'otherway' . For\n",
    "    our purposes, there are 5 vowels: a, e, i, o, u (so we count y as a consonant). Write a function pig() that takes a word (i.e., a string) as input and returns its pig- Latin form. Your function should still work if the input word contains upper case characters. Your output should always be lower case however.\n",
    "    >>> pig('happy') ' appyhay'\n",
    "    >>> pig('Enter') 'enterway'"
   ]
  },
  {
   "cell_type": "code",
   "execution_count": 15,
   "id": "f1d57772",
   "metadata": {},
   "outputs": [],
   "source": [
    "def pig(word):\n",
    "    vowels = \"aeiou\"\n",
    "    if word[0].lower() in vowels:\n",
    "        return word.lower() + \"way\"\n",
    "    else:\n",
    "        return word[1:].lower() + word[0].lower() + \"ay\""
   ]
  },
  {
   "cell_type": "code",
   "execution_count": 16,
   "id": "3eccfa53",
   "metadata": {},
   "outputs": [
    {
     "data": {
      "text/plain": [
       "'appyhay'"
      ]
     },
     "execution_count": 16,
     "metadata": {},
     "output_type": "execute_result"
    }
   ],
   "source": [
    "pig('happy')"
   ]
  },
  {
   "cell_type": "code",
   "execution_count": 17,
   "id": "aa258ae2",
   "metadata": {},
   "outputs": [
    {
     "data": {
      "text/plain": [
       "'enterway'"
      ]
     },
     "execution_count": 17,
     "metadata": {},
     "output_type": "execute_result"
    }
   ],
   "source": [
    "pig('Enter')"
   ]
  },
  {
   "cell_type": "markdown",
   "id": "08d8ca63",
   "metadata": {},
   "source": [
    "# Question 7"
   ]
  },
  {
   "cell_type": "markdown",
   "id": "83699658",
   "metadata": {},
   "source": [
    "    File bloodtype1.txt records blood-types of patients (A, B, AB, O or OO) at a clinic.\n",
    "    Write a function bldcount() that reads the file with name name and reports (i.e.,\n",
    "    prints) how many patients there are in each bloodtype.\n",
    "    >>> bldcount('bloodtype.txt')\n",
    "    There are 10 patients of blood type A.\n",
    "    There is one patient of blood type B.\n",
    "    There are 10 patients of blood type AB.\n",
    "    There are 12 patients of blood type O.\n",
    "    There are no patients of blood type OO."
   ]
  },
  {
   "cell_type": "code",
   "execution_count": 26,
   "id": "629b7920",
   "metadata": {},
   "outputs": [
    {
     "name": "stdout",
     "output_type": "stream",
     "text": [
      "There are 15 patients of blood group A\n",
      "There are 1 patients of blood group B\n",
      "There are 13 patients of blood group AB\n",
      "There are 15 patients of blood group O\n",
      "There are 0 patients of blood group OO\n"
     ]
    }
   ],
   "source": [
    "def bldcount():\n",
    "    file = open(\"bloodtype1.txt\", \"r\")\n",
    "    file1 = file.read()\n",
    "    file.close()\n",
    "    groups = file1.split()\n",
    "    print(\"There are \" + str(groups.count(\"A\"))+ \" patients of blood group A\")\n",
    "    print(\"There are \" + str(groups.count(\"B\"))+ \" patients of blood group B\")\n",
    "    print(\"There are \" + str(groups.count(\"AB\"))+ \" patients of blood group AB\")\n",
    "    print(\"There are \" + str(groups.count(\"O\"))+ \" patients of blood group O\")\n",
    "    print(\"There are \" + str(groups.count(\"OO\"))+ \" patients of blood group OO\")\n",
    "    \n",
    "bldcount()"
   ]
  },
  {
   "cell_type": "markdown",
   "id": "f341b8c6",
   "metadata": {},
   "source": [
    "# Question 8"
   ]
  },
  {
   "cell_type": "markdown",
   "id": "65d14fa9",
   "metadata": {},
   "source": [
    "    Write a function curconv() that takes as input:\n",
    "    1. a currency represented using a string (e.g., 'JPY' for the Japanese Yen or\n",
    "    'EUR' for the Euro)\n",
    "    2. an amount\n",
    "    and then converts and returns the amount in US dollars.\n",
    "    >>> curconv('EUR', 100)\n",
    "    122.96544\n",
    "    >>> curconv('JPY', 100)\n",
    "    1.241401\n",
    "    The currency rates you will need are stored in file currencies.txt:\n",
    "    AUD 1.0345157 Australian Dollar\n",
    "    CHF 1.0237414 Swiss Franc\n",
    "    CNY 0.1550176 Chinese Yuan\n",
    "    DKK 0.1651442 Danish Krone\n",
    "    EUR 1.2296544 Euro\n",
    "    GBP 1.5550989 British Pound\n",
    "    HKD 0.1270207 Hong Kong Dollar\n",
    "    INR 0.0177643 Indian Rupee\n",
    "    JPY 0.01241401 Japanese Yen\n",
    "    MXN 0.0751848 Mexican Peso\n",
    "    MYR 0.3145411 Malaysian Ringgit\n",
    "    NOK 0.1677063 Norwegian Krone\n",
    "    NZD 0.8003591 New Zealand Dollar\n",
    "    PHP 0.0233234 Philippine Peso\n",
    "    SEK 0.148269 Swedish Krona\n",
    "    SGD 0.788871 Singapore Dollar\n",
    "    THB 0.0313789 Thai Baht"
   ]
  },
  {
   "cell_type": "code",
   "execution_count": 31,
   "id": "4b868924",
   "metadata": {},
   "outputs": [
    {
     "name": "stdout",
     "output_type": "stream",
     "text": [
      "16.514419999999998\n"
     ]
    }
   ],
   "source": [
    "def curconv(currency,amount):\n",
    "    file = open(\"currencies.txt\", \"r\")\n",
    "    file1 = file.readlines()\n",
    "    file.close()\n",
    "    for file in file1 :\n",
    "        group = file.split()\n",
    "        if currency == group[0]:\n",
    "            currency = float(group[1])\n",
    "            valueconv = (amount * currency)\n",
    "        \n",
    "    print(valueconv)   \n",
    "        \n",
    "curconv('DKK',100)"
   ]
  },
  {
   "cell_type": "markdown",
   "id": "804f47f7",
   "metadata": {},
   "source": [
    "# Question 9"
   ]
  },
  {
   "cell_type": "markdown",
   "id": "94e71001",
   "metadata": {},
   "source": [
    "    Each of the following will cause an exception (an error). Identify what type of\n",
    "    exception each will cause.\n",
    "    Trying to add incompatible variables, as in\n",
    "    adding 6 + ‘a’\n",
    "    Referring to the 12th item of a list that has only 10\n",
    "    items\n",
    "    Using a value that is out ofrange for a function’s\n",
    "    input, such as calling math.sqrt(-1.0)\n",
    "    Using an undeclared variable, such as print(x)\n",
    "    when x has not been defined\n",
    "    Trying to open a file that does not exist, such as\n",
    "    mistyping the file name or looking in the wrong\n",
    "    directory"
   ]
  },
  {
   "cell_type": "code",
   "execution_count": 32,
   "id": "891244a9",
   "metadata": {},
   "outputs": [],
   "source": [
    "# Trying to add incompatible variables, as in adding 6 + ‘a’\n",
    "#TypeError: unsupported operand type(s) for +: 'int' and 'str'\n",
    "\n",
    "#Referring to the 12th item of a list that has only 10 items\n",
    "#IndexError: list index out of range\n",
    "\n",
    "#Using a value that is out ofrange for a function’s input, such as calling math.sqrt(-1.0)\n",
    "#ValueError: math domain error\n",
    "\n",
    "#Using an undeclared variable, such as print(x) when x has not been defined\n",
    "#NameError: name 'x' is not defined\n",
    "\n",
    "#Trying to open a file that does not exist, such as mistyping the file name or looking in the wrong directory.\n",
    "#FileNotFoundError: [Errno 2] No such file or directory: 'file.txt'"
   ]
  },
  {
   "cell_type": "markdown",
   "id": "e97853bd",
   "metadata": {},
   "source": [
    "# Question 10"
   ]
  },
  {
   "cell_type": "markdown",
   "id": "e81ad7b6",
   "metadata": {},
   "source": [
    "    Encryption is the process of hiding the meaning of a text by substituting letters in the\n",
    "    message with other letters, according to some system. If the process is successful, no\n",
    "    one but the intended recipient can understand the encrypted message. Cryptanalysis\n",
    "    refers to attempts to undo the encryption, even if some details of the encryption are\n",
    "    unknown (for example, if an encrypted message has been intercepted). The first step\n",
    "    of cryptanalysis is often to build up a table of letter frequencies in the encrypted text.\n",
    "    Assume that the string letters is already defined as\n",
    "    'abcdefghijklmnopqrstuvwxyz'. Write a function called frequencies()\n",
    "    that takes a string as its only parameter, and returns a list of integers, showing the\n",
    "    number of times each character appears in the text. Your function may ignore any\n",
    "    characters that are not in letters.\n",
    "    >>> frequencies('The quick red fox got bored and went home.')\n",
    "    [1, 1, 1, 3, 5, 1, 1, 2, 1, 0, 1, 0, 1, 2, 4, 0, 1, 2, 0, 2,\n",
    "    1, 0, 1, 1, 0, 0]\n",
    "    >>> frequencies('apple')"
   ]
  },
  {
   "cell_type": "code",
   "execution_count": 33,
   "id": "9d4fa2a2",
   "metadata": {},
   "outputs": [
    {
     "name": "stdout",
     "output_type": "stream",
     "text": [
      "Enter the text:The quick red fox got bored and went home.\n",
      "[1, 1, 1, 3, 5, 1, 1, 2, 1, 0, 1, 0, 1, 2, 4, 0, 1, 2, 0, 2, 1, 0, 1, 1, 0, 0]\n"
     ]
    }
   ],
   "source": [
    "def frequency(value):\n",
    "    result = [0] * 26\n",
    "    for ch in value:\n",
    "        if ch in 'abcdefghijklmnopqrstuvwxyz':\n",
    "            result[ord(ch)-ord('a')] += 1\n",
    "\n",
    "    return result\n",
    "text=input(\"Enter the text:\")\n",
    "encrypted_data = frequency(text)\n",
    "print(encrypted_data)"
   ]
  },
  {
   "cell_type": "code",
   "execution_count": null,
   "id": "dd59bca4",
   "metadata": {},
   "outputs": [],
   "source": []
  }
 ],
 "metadata": {
  "kernelspec": {
   "display_name": "Python 3 (ipykernel)",
   "language": "python",
   "name": "python3"
  },
  "language_info": {
   "codemirror_mode": {
    "name": "ipython",
    "version": 3
   },
   "file_extension": ".py",
   "mimetype": "text/x-python",
   "name": "python",
   "nbconvert_exporter": "python",
   "pygments_lexer": "ipython3",
   "version": "3.9.13"
  }
 },
 "nbformat": 4,
 "nbformat_minor": 5
}
